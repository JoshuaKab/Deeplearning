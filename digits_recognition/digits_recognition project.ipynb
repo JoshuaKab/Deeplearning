{
 "cells": [
  {
   "cell_type": "markdown",
   "metadata": {},
   "source": [
    "\n",
    "1. **Project Title**: Handwritten Recognition\n",
    "\n",
    "    **Project Author**: Joshua Kabwanga\n",
    "\n",
    "2. **Libraries Used**: \n",
    "    - `os`\n",
    "    - `cv2`\n",
    "    - `numpy`\n",
    "    - `tensorflow`\n",
    "    - `matplotlib.pyplot`\n",
    "3. **Data**:\n",
    "    - The MNIST dataset is used for training and testing the model to predict house number.\n",
    "    - An external image (`house_number.png`) is used for prediction.\n",
    "4. **Model**:\n",
    "    - A neural network model is created using TensorFlow's Keras API.\n",
    "    - The model consists of a flatten layer, two dense layers with ReLU activation, and an output layer with softmax activation.\n",
    "    - The model is compiled with the Adam optimizer and sparse categorical cross-entropy loss.\n",
    "    - The model is trained for 10 epochs.\n",
    "    - The model achieves a validation loss of `0.1136` and an accuracy of `0.9747`.\n",
    "5. **Prediction**:\n",
    "    - The model is used to predict the digit in an external image, and the predicted digit is displayed."
   ]
  },
  {
   "cell_type": "code",
   "execution_count": 1,
   "metadata": {},
   "outputs": [],
   "source": [
    "#!pip install opencv-python"
   ]
  },
  {
   "cell_type": "markdown",
   "metadata": {},
   "source": [
    "import python libreries"
   ]
  },
  {
   "cell_type": "code",
   "execution_count": 2,
   "metadata": {},
   "outputs": [],
   "source": [
    "import os\n",
    "import cv2 \n",
    "import numpy as np\n",
    "import tensorflow as tf\n",
    "import matplotlib.pyplot as plt"
   ]
  },
  {
   "cell_type": "code",
   "execution_count": 3,
   "metadata": {},
   "outputs": [
    {
     "name": "stdout",
     "output_type": "stream",
     "text": [
      "Epoch 1/10\n",
      "\u001b[1m1875/1875\u001b[0m \u001b[32m━━━━━━━━━━━━━━━━━━━━\u001b[0m\u001b[37m\u001b[0m \u001b[1m6s\u001b[0m 2ms/step - accuracy: 0.8642 - loss: 0.4680\n",
      "Epoch 2/10\n",
      "\u001b[1m1875/1875\u001b[0m \u001b[32m━━━━━━━━━━━━━━━━━━━━\u001b[0m\u001b[37m\u001b[0m \u001b[1m4s\u001b[0m 2ms/step - accuracy: 0.9655 - loss: 0.1099\n",
      "Epoch 3/10\n",
      "\u001b[1m1875/1875\u001b[0m \u001b[32m━━━━━━━━━━━━━━━━━━━━\u001b[0m\u001b[37m\u001b[0m \u001b[1m4s\u001b[0m 2ms/step - accuracy: 0.9772 - loss: 0.0703\n",
      "Epoch 4/10\n",
      "\u001b[1m1875/1875\u001b[0m \u001b[32m━━━━━━━━━━━━━━━━━━━━\u001b[0m\u001b[37m\u001b[0m \u001b[1m4s\u001b[0m 2ms/step - accuracy: 0.9819 - loss: 0.0525\n",
      "Epoch 5/10\n",
      "\u001b[1m1875/1875\u001b[0m \u001b[32m━━━━━━━━━━━━━━━━━━━━\u001b[0m\u001b[37m\u001b[0m \u001b[1m6s\u001b[0m 2ms/step - accuracy: 0.9882 - loss: 0.0375\n",
      "Epoch 6/10\n",
      "\u001b[1m1875/1875\u001b[0m \u001b[32m━━━━━━━━━━━━━━━━━━━━\u001b[0m\u001b[37m\u001b[0m \u001b[1m5s\u001b[0m 2ms/step - accuracy: 0.9898 - loss: 0.0297\n",
      "Epoch 7/10\n",
      "\u001b[1m1875/1875\u001b[0m \u001b[32m━━━━━━━━━━━━━━━━━━━━\u001b[0m\u001b[37m\u001b[0m \u001b[1m4s\u001b[0m 2ms/step - accuracy: 0.9919 - loss: 0.0226\n",
      "Epoch 8/10\n",
      "\u001b[1m1875/1875\u001b[0m \u001b[32m━━━━━━━━━━━━━━━━━━━━\u001b[0m\u001b[37m\u001b[0m \u001b[1m4s\u001b[0m 2ms/step - accuracy: 0.9936 - loss: 0.0189\n",
      "Epoch 9/10\n",
      "\u001b[1m1875/1875\u001b[0m \u001b[32m━━━━━━━━━━━━━━━━━━━━\u001b[0m\u001b[37m\u001b[0m \u001b[1m4s\u001b[0m 2ms/step - accuracy: 0.9947 - loss: 0.0154\n",
      "Epoch 10/10\n",
      "\u001b[1m1875/1875\u001b[0m \u001b[32m━━━━━━━━━━━━━━━━━━━━\u001b[0m\u001b[37m\u001b[0m \u001b[1m5s\u001b[0m 3ms/step - accuracy: 0.9962 - loss: 0.0123\n",
      "\u001b[1m313/313\u001b[0m \u001b[32m━━━━━━━━━━━━━━━━━━━━\u001b[0m\u001b[37m\u001b[0m \u001b[1m0s\u001b[0m 1ms/step - accuracy: 0.9724 - loss: 0.1245\n",
      "[0.11359608173370361, 0.9746999740600586]\n"
     ]
    }
   ],
   "source": [
    "train_new_model = True\n",
    "\n",
    "if train_new_model:\n",
    "    mnist = tf.keras.datasets.mnist\n",
    "    (X_train, y_train), (X_test, y_test) = mnist.load_data()\n",
    "\n",
    "    #normalize the data\n",
    "\n",
    "    X_train = tf.keras.utils.normalize(X_train, axis = 1)\n",
    "    X_test = tf.keras.utils.normalize(X_test, axis = 1)\n",
    "\n",
    "    #create a neural network model\n",
    "    #let train the model\n",
    "\n",
    "    model = tf.keras.models.Sequential()\n",
    "    model.add(tf.keras.layers.Flatten())\n",
    "    model.add(tf.keras.layers.Dense(units=128, activation = tf.nn.relu))\n",
    "    model.add(tf.keras.layers.Dense(units=128, activation = tf.nn.relu))\n",
    "    model.add(tf.keras.layers.Dense(units=10, activation = tf.nn.softmax))\n",
    "\n",
    "    #compile the model\n",
    "    model.compile(optimizer = 'adam', loss = 'sparse_categorical_crossentropy', metrics=(['accuracy']))\n",
    "\n",
    "    #fit the model for training\n",
    "\n",
    "    model.fit(X_train, y_train, epochs=10)\n",
    "\n",
    "    #Evaluate the model\n",
    "    val_loss = model.evaluate(X_test,y_test)\n",
    "    print(val_loss)\n",
    "\n",
    "    #saving the model\n",
    "    model.save('handwritten_digits.keras')\n",
    "else:\n",
    "    #load the model\n",
    "    model = tf.keras.models.load_model('handwritten_digits.model')\n",
    "\n"
   ]
  },
  {
   "cell_type": "code",
   "execution_count": 4,
   "metadata": {},
   "outputs": [
    {
     "name": "stdout",
     "output_type": "stream",
     "text": [
      "\u001b[1m1/1\u001b[0m \u001b[32m━━━━━━━━━━━━━━━━━━━━\u001b[0m\u001b[37m\u001b[0m \u001b[1m0s\u001b[0m 61ms/step\n",
      "The number is probably a 5\n"
     ]
    },
    {
     "data": {
      "image/png": "[encoded data removed]",
      "text/plain": [
       "<Figure size 640x480 with 1 Axes>"
      ]
     },
     "metadata": {},
     "output_type": "display_data"
    }
   ],
   "source": [
    "# Load an external image\n",
    "image_path = 'house_number.png'\n",
    "img = cv2.imread(image_path, cv2.IMREAD_GRAYSCALE)\n",
    "\n",
    "# Preprocess the image to match the input shape of the model\n",
    "img = cv2.resize(img, (28, 28))\n",
    "img = np.invert(img)\n",
    "img = img / 255.0\n",
    "img = img.reshape(1, 28, 28, 1)\n",
    "\n",
    "# Use the model to predict the image\n",
    "prediction = model.predict(img)\n",
    "predicted_digit = np.argmax(prediction)\n",
    "\n",
    "print(f'The number is probably a {predicted_digit}')\n",
    "plt.imshow(img[0], cmap=plt.cm.binary)\n",
    "plt.show()"
   ]
  },
  {
   "cell_type": "markdown",
   "metadata": {},
   "source": [
    "### Recommendation:\n",
    "1. **Model Improvement**:\n",
    "    - Consider experimenting with different architectures, such as adding convolutional layers, to improve the model's performance.\n",
    "    - Perform hyperparameter tuning to find the optimal learning rate, batch size, and number of epochs.\n",
    "2. **Data Augmentation**:\n",
    "    - Apply data augmentation techniques (e.g., rotation, scaling, translation) to the training data to make the model more robust.\n",
    "3. **Evaluation**:\n",
    "    - Evaluate the model using additional metrics such as precision, recall, and F1-score.\n",
    "    - Perform cross-validation to ensure the model's performance is consistent across different subsets of the data.\n",
    "4. **Deployment**:\n",
    "    - Save the trained model in a format suitable for deployment (e.g., TensorFlow SavedModel format).\n",
    "    - Create a user-friendly interface for uploading images and displaying predictions.\n",
    "5."
   ]
  }
 ],
 "metadata": {
  "kernelspec": {
   "display_name": "base",
   "language": "python",
   "name": "python3"
  },
  "language_info": {
   "codemirror_mode": {
    "name": "ipython",
    "version": 3
   },
   "file_extension": ".py",
   "mimetype": "text/x-python",
   "name": "python",
   "nbconvert_exporter": "python",
   "pygments_lexer": "ipython3",
   "version": "3.12.3"
  }
 },
 "nbformat": 4,
 "nbformat_minor": 2
}
