{
 "cells": [
  {
   "cell_type": "markdown",
   "metadata": {},
   "source": [
    "\n",
    "1. **Project Title**: Fasion Recognition\n",
    "\n",
    "    **Project Author**: Joshua Kabwanga\n",
    "\n",
    "2. **Libraries Used**: \n",
    "    - `os`\n",
    "    - `cv2`\n",
    "    - `numpy`\n",
    "    - `tensorflow`\n",
    "    - `matplotlib.pyplot`\n",
    "3. **Data**:\n",
    "    - The fasion dataset is used for training and testing the model to predict a fasion.\n",
    "    - An external image (`Dress.png`) is used for prediction.\n",
    "4. **Model**:\n",
    "    - A neural network model is created using TensorFlow's Keras API.\n",
    "    - The model consists of a flatten layer, two dense layers with ReLU activation, and an output layer with softmax activation.\n",
    "    - The model is compiled with the Adam optimizer and sparse categorical cross-entropy loss.\n",
    "    - The model is trained for 10 epochs.\n"
   ]
  },
  {
   "cell_type": "code",
   "execution_count": 1,
   "metadata": {},
   "outputs": [],
   "source": [
    "#!pip install tensorflow"
   ]
  },
  {
   "cell_type": "markdown",
   "metadata": {},
   "source": [
    "import python libreries"
   ]
  },
  {
   "cell_type": "code",
   "execution_count": 2,
   "metadata": {},
   "outputs": [],
   "source": [
    "#python libray\n",
    "import os\n",
    "import cv2 \n",
    "import numpy as np\n",
    "import tensorflow as tf\n",
    "import matplotlib.pyplot as plt"
   ]
  },
  {
   "cell_type": "code",
   "execution_count": 3,
   "metadata": {},
   "outputs": [
    {
     "name": "stdout",
     "output_type": "stream",
     "text": [
      "Epoch 1/10\n",
      "\u001b[1m1875/1875\u001b[0m \u001b[32m━━━━━━━━━━━━━━━━━━━━\u001b[0m\u001b[37m\u001b[0m \u001b[1m5s\u001b[0m 2ms/step - accuracy: 0.7649 - loss: 0.6520\n",
      "Epoch 2/10\n",
      "\u001b[1m1875/1875\u001b[0m \u001b[32m━━━━━━━━━━━━━━━━━━━━\u001b[0m\u001b[37m\u001b[0m \u001b[1m4s\u001b[0m 2ms/step - accuracy: 0.8668 - loss: 0.3631\n",
      "Epoch 3/10\n",
      "\u001b[1m1875/1875\u001b[0m \u001b[32m━━━━━━━━━━━━━━━━━━━━\u001b[0m\u001b[37m\u001b[0m \u001b[1m4s\u001b[0m 2ms/step - accuracy: 0.8814 - loss: 0.3191\n",
      "Epoch 4/10\n",
      "\u001b[1m1875/1875\u001b[0m \u001b[32m━━━━━━━━━━━━━━━━━━━━\u001b[0m\u001b[37m\u001b[0m \u001b[1m4s\u001b[0m 2ms/step - accuracy: 0.8876 - loss: 0.2996\n",
      "Epoch 5/10\n",
      "\u001b[1m1875/1875\u001b[0m \u001b[32m━━━━━━━━━━━━━━━━━━━━\u001b[0m\u001b[37m\u001b[0m \u001b[1m4s\u001b[0m 2ms/step - accuracy: 0.8957 - loss: 0.2785\n",
      "Epoch 6/10\n",
      "\u001b[1m1875/1875\u001b[0m \u001b[32m━━━━━━━━━━━━━━━━━━━━\u001b[0m\u001b[37m\u001b[0m \u001b[1m4s\u001b[0m 2ms/step - accuracy: 0.9040 - loss: 0.2586\n",
      "Epoch 7/10\n",
      "\u001b[1m1875/1875\u001b[0m \u001b[32m━━━━━━━━━━━━━━━━━━━━\u001b[0m\u001b[37m\u001b[0m \u001b[1m4s\u001b[0m 2ms/step - accuracy: 0.9051 - loss: 0.2457\n",
      "Epoch 8/10\n",
      "\u001b[1m1875/1875\u001b[0m \u001b[32m━━━━━━━━━━━━━━━━━━━━\u001b[0m\u001b[37m\u001b[0m \u001b[1m4s\u001b[0m 2ms/step - accuracy: 0.9096 - loss: 0.2376\n",
      "Epoch 9/10\n",
      "\u001b[1m1875/1875\u001b[0m \u001b[32m━━━━━━━━━━━━━━━━━━━━\u001b[0m\u001b[37m\u001b[0m \u001b[1m4s\u001b[0m 2ms/step - accuracy: 0.9153 - loss: 0.2231\n",
      "Epoch 10/10\n",
      "\u001b[1m1875/1875\u001b[0m \u001b[32m━━━━━━━━━━━━━━━━━━━━\u001b[0m\u001b[37m\u001b[0m \u001b[1m4s\u001b[0m 2ms/step - accuracy: 0.9178 - loss: 0.2137\n",
      "\u001b[1m313/313\u001b[0m \u001b[32m━━━━━━━━━━━━━━━━━━━━\u001b[0m\u001b[37m\u001b[0m \u001b[1m1s\u001b[0m 1ms/step - accuracy: 0.8871 - loss: 0.3275\n",
      "[0.3283144533634186, 0.8873000144958496]\n"
     ]
    }
   ],
   "source": [
    "train_new_model = True\n",
    "\n",
    "if train_new_model:\n",
    "    fashion = tf.keras.datasets.fashion_mnist\n",
    "    (X_train, y_train), (X_test, y_test) = fashion.load_data()\n",
    "\n",
    "    #normalize the data\n",
    "\n",
    "    X_train = tf.keras.utils.normalize(X_train, axis = 1)\n",
    "    X_test = tf.keras.utils.normalize(X_test, axis = 1)\n",
    "\n",
    "    #create a neural network model\n",
    "    #let train the model\n",
    "\n",
    "    model = tf.keras.models.Sequential()\n",
    "    model.add(tf.keras.layers.Flatten())\n",
    "    model.add(tf.keras.layers.Dense(units=128, activation = tf.nn.relu))\n",
    "    model.add(tf.keras.layers.Dense(units=128, activation = tf.nn.relu))\n",
    "    model.add(tf.keras.layers.Dense(units=10, activation = tf.nn.softmax))\n",
    "\n",
    "    #compile the model\n",
    "    model.compile(optimizer = 'adam', loss = 'sparse_categorical_crossentropy', metrics=(['accuracy']))\n",
    "\n",
    "    #fit the model for training\n",
    "\n",
    "    model.fit(X_train, y_train, epochs= 10)\n",
    "\n",
    "    #Evaluate the model\n",
    "    val_loss = model.evaluate(X_test,y_test)\n",
    "    print(val_loss)\n",
    "\n",
    "    #saving the model\n",
    "    model.save('fasion model.keras')\n",
    "else:\n",
    "    #load the model\n",
    "    model = tf.keras.models.load_model('fasion model.model')\n"
   ]
  },
  {
   "cell_type": "code",
   "execution_count": 4,
   "metadata": {},
   "outputs": [
    {
     "name": "stdout",
     "output_type": "stream",
     "text": [
      "\u001b[1m1/1\u001b[0m \u001b[32m━━━━━━━━━━━━━━━━━━━━\u001b[0m\u001b[37m\u001b[0m \u001b[1m0s\u001b[0m 75ms/step\n",
      "The label number is probably 3\n"
     ]
    },
    {
     "data": {
      "image/png": "[encoded data removed]",
      "text/plain": [
       "<Figure size 640x480 with 1 Axes>"
      ]
     },
     "metadata": {},
     "output_type": "display_data"
    }
   ],
   "source": [
    "# Load an external image for prdiction\n",
    "image_path = 'dress.png'\n",
    "img = cv2.imread(image_path, cv2.IMREAD_GRAYSCALE)\n",
    "\n",
    "# Preprocess the image to match the input shape of the model\n",
    "img = cv2.resize(img, (28, 28))\n",
    "img = np.invert(img)\n",
    "img = img / 255.0\n",
    "img = img.reshape(1, 28, 28, 1)\n",
    "\n",
    "# Use the model to predict the image\n",
    "prediction = model.predict(img)\n",
    "predicted_digit = np.argmax(prediction)\n",
    "\n",
    "print(f'The label number is probably {predicted_digit}')\n",
    "plt.imshow(img[0], cmap=plt.cm.binary)\n",
    "plt.show()"
   ]
  },
  {
   "cell_type": "markdown",
   "metadata": {},
   "source": [
    "### Label description"
   ]
  },
  {
   "attachments": {
    "2025-01-09 21_18_59-Window.png": {
     "image/png": "[encoded data removed]"
    }
   },
   "cell_type": "markdown",
   "metadata": {},
   "source": [
    "![2025-01-09 21_18_59-Window.png](<attachment:2025-01-09 21_18_59-Window.png>)"
   ]
  }
 ],
 "metadata": {
  "kernelspec": {
   "display_name": "Python 3",
   "language": "python",
   "name": "python3"
  },
  "language_info": {
   "codemirror_mode": {
    "name": "ipython",
    "version": 3
   },
   "file_extension": ".py",
   "mimetype": "text/x-python",
   "name": "python",
   "nbconvert_exporter": "python",
   "pygments_lexer": "ipython3",
   "version": "3.12.7"
  }
 },
 "nbformat": 4,
 "nbformat_minor": 2
}
